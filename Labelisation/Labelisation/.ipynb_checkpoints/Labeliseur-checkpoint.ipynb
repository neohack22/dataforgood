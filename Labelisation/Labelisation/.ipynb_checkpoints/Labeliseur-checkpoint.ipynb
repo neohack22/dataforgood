{
 "cells": [
  {
   "cell_type": "markdown",
   "metadata": {},
   "source": [
    "## Script à exécuter "
   ]
  },
  {
   "cell_type": "code",
   "execution_count": null,
   "metadata": {},
   "outputs": [],
   "source": [
    "import numpy as np\n",
    "from os import path\n",
    "\n",
    "def create_unlabeled_dataset():\n",
    "    \n",
    "    data = pd.read_csv('comments.csv')\n",
    "    \n",
    "    # Split of the work\n",
    "    data = data.sample(n=300, random_state=10)\n",
    "    dataset_1 = data.iloc[0:100]\n",
    "    dataset_2 = data.iloc[100:200]\n",
    "    dataset_3 = data.iloc[200:300]\n",
    "    user = input(\"What is your name ? Type Abdoulai or Nisha or Adou.\")\n",
    "    if(user==\"Abdoulai\"):\n",
    "        data = dataset_1\n",
    "        data['label'] = np.nan\n",
    "    elif(user==\"Nisha\"):\n",
    "        data = dataset_2\n",
    "        data['label'] = np.nan\n",
    "    elif(user==\"Adou\"):\n",
    "        data = dataset_3\n",
    "        data['label'] = np.nan\n",
    "    \n",
    "    data.to_csv('unlabeled_data.csv', index=False)\n",
    "    \n",
    "    return data\n",
    "\n",
    "\n",
    "def labelisation():\n",
    "    \n",
    "    if(path.isfile('unlabeled_data.csv')==False):\n",
    "        unlabeled_data = create_unlabeled_dataset()\n",
    "    else:\n",
    "        unlabeled_data = pd.read_csv('unlabeled_data.csv')\n",
    "        \n",
    "    if(path.isfile('labeled_data.csv')==False):\n",
    "        labeled_data = pd.DataFrame({'date':[], 'comments':[], 'restaurant':[], 'label':[]})\n",
    "        labeled_data.to_csv('labeled_data.csv', index=False)\n",
    "        \n",
    "    count = len(unlabeled_data)\n",
    "    \n",
    "    while(count > 0):\n",
    "        unlabeled_data = pd.read_csv('unlabeled_data.csv')\n",
    "        comment = unlabeled_data['comments'].iloc[0]\n",
    "        label = input(comment + \"\\n\\nPercevez-vous un manque d'hygiène ?\\n\\nTapez '0' pour non ou tapez '1' pour oui.\\n\\n\")\n",
    "        \n",
    "        # Update of the labeled dataframe\n",
    "        labeled_data = pd.read_csv('labeled_data.csv')\n",
    "        unlabeled_data['label'].iloc[0] = int(label)\n",
    "        row = unlabeled_data.iloc[0]\n",
    "        labeled_data = labeled_data.append(row)\n",
    "        labeled_data.to_csv('labeled_data.csv', index=False)\n",
    "        \n",
    "        # Update of the unlabeled dataframe\n",
    "        unlabeled_data = unlabeled_data.iloc[1:]\n",
    "        unlabeled_data.to_csv('unlabeled_data.csv', index=False)\n",
    "\n",
    "    return 'Done'"
   ]
  },
  {
   "cell_type": "markdown",
   "metadata": {},
   "source": [
    "## Fonction à exécuter"
   ]
  },
  {
   "cell_type": "code",
   "execution_count": null,
   "metadata": {},
   "outputs": [],
   "source": [
    "labelisation()"
   ]
  }
 ],
 "metadata": {
  "kernelspec": {
   "display_name": "Python 3",
   "language": "python",
   "name": "python3"
  },
  "language_info": {
   "codemirror_mode": {
    "name": "ipython",
    "version": 3
   },
   "file_extension": ".py",
   "mimetype": "text/x-python",
   "name": "python",
   "nbconvert_exporter": "python",
   "pygments_lexer": "ipython3",
   "version": "3.6.4"
  }
 },
 "nbformat": 4,
 "nbformat_minor": 2
}
